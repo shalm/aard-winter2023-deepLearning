{
 "cells": [
  {
   "cell_type": "markdown",
   "metadata": {},
   "source": [
    "## Fundamentals of Python - part 2 (with Solutions)\n",
    "\n",
    "In the last lecture you have learned how to operate with built-in python objects (numbers, strings, lists, tuples, dictionaries, etc.). This lecture you will practice how to operate with custom-defined functions, loops and conditions."
   ]
  },
  {
   "cell_type": "markdown",
   "metadata": {},
   "source": [
    "## References\n",
    "Mark Lutz, 'Learning Python: Powerful Object-Oriented Programming', O'Reilly Media, Inc., 2013. (Chapter 4)\n",
    "\n",
    "Dane Hillard, 'Practices of the Python Pro', Manning Publications, 2020.\n",
    "\n",
    "MIT course 6.0001 (Lecture 2 and 4): https://ocw.mit.edu/courses/electrical-engineering-and-computer-science/6-0001-introduction-to-computer-science-and-programming-in-python-fall-2016/lecture-videos/"
   ]
  },
  {
   "cell_type": "markdown",
   "metadata": {},
   "source": [
    "### 1. Branches and Loops\n",
    "branching and conditioning: <b>if</b>, <b>elif</b>, <b>else</b> <br>\n",
    "boolean operators (and ,or, not), comparisons (==, !=, >,>=)<br>"
   ]
  },
  {
   "cell_type": "code",
   "execution_count": null,
   "metadata": {},
   "outputs": [],
   "source": [
    "#write a sentence with an if clause\n",
    "'if I do not eat my lunch, then I get really hungry in the evening'"
   ]
  },
  {
   "cell_type": "code",
   "execution_count": null,
   "metadata": {},
   "outputs": [],
   "source": [
    "#logic: if (condition = True or False), then do the instructions (formatted with indentations)\n",
    "#compare two numbers and print out the comparison conclusion\n",
    "x = 15\n",
    "y = 15\n",
    "if x>y:\n",
    "    print('x is larger than y')\n",
    "if x<y:\n",
    "    print('x is smaller than y')\n",
    "if x==y:\n",
    "    print('x is equal to y')"
   ]
  },
  {
   "cell_type": "code",
   "execution_count": null,
   "metadata": {},
   "outputs": [],
   "source": [
    "# other branching constructs: elif, else\n",
    "# only one branch is selected\n",
    "parameters = [0, 1, 2, 10, 3.141]\n",
    "if 3.14 in parameters:\n",
    "    print('We added 3.14!')\n",
    "elif parameters[0]==0:    #else if\n",
    "    print('Discarded dataset')\n",
    "else:\n",
    "    print('Proceed further')"
   ]
  },
  {
   "cell_type": "code",
   "execution_count": null,
   "metadata": {},
   "outputs": [],
   "source": [
    "# use if-constructs to output x values until they are less than xmax = 1064; each step x is multiplied by\n",
    "x = 2\n",
    "xmax = 32\n",
    "\n",
    "if x<xmax:\n",
    "    x = x*2\n",
    "    print(x)\n",
    "else:\n",
    "    print('stop')\n",
    "\n",
    "if x<xmax:\n",
    "    x = x*2\n",
    "    print(x)\n",
    "else:\n",
    "    print('stop')\n",
    "    \n",
    "if x<xmax:\n",
    "    x = x*2\n",
    "    print(x)\n",
    "else:\n",
    "    print('stop')\n",
    "    \n",
    "if x<xmax:\n",
    "    x = x*2\n",
    "    print(x)\n",
    "else:\n",
    "    print('stop')\n",
    "\n",
    "if x<xmax:\n",
    "    x = x*2\n",
    "    print(x)\n",
    "else:\n",
    "    print('stop')"
   ]
  },
  {
   "cell_type": "code",
   "execution_count": null,
   "metadata": {},
   "outputs": [],
   "source": [
    "'While all of you give answers to the quiz questions, we are not moving to the next topic.'"
   ]
  },
  {
   "cell_type": "code",
   "execution_count": null,
   "metadata": {},
   "outputs": [],
   "source": [
    "#iterative if conditions can be substituted with while-loops\n",
    "x = 2\n",
    "xmax = 1064\n",
    "while (x < xmax):\n",
    "    x = x*2\n",
    "    print(x)\n",
    "\n",
    "print('stop')"
   ]
  },
  {
   "cell_type": "code",
   "execution_count": null,
   "metadata": {},
   "outputs": [],
   "source": [
    "# while can lead to an infinite loop\n",
    "x = 1\n",
    "while True:\n",
    "    x = x**2\n",
    "    print(x)"
   ]
  },
  {
   "cell_type": "code",
   "execution_count": null,
   "metadata": {},
   "outputs": [],
   "source": [
    "# adding a counter to a while loop\n",
    "i = 0\n",
    "x = 1\n",
    "while i<10:\n",
    "    x = x*2\n",
    "    print(x)\n",
    "    i = i +1"
   ]
  },
  {
   "cell_type": "code",
   "execution_count": null,
   "metadata": {},
   "outputs": [],
   "source": [
    "'For each alphabetical character, there is a numerical ASCII code.'"
   ]
  },
  {
   "cell_type": "code",
   "execution_count": null,
   "metadata": {},
   "outputs": [],
   "source": [
    "#for loop: for 'variable' in range 'number'\n",
    "x = 0\n",
    "for i in range(10):\n",
    "    x = x*2\n",
    "    print(x)"
   ]
  },
  {
   "cell_type": "markdown",
   "metadata": {},
   "source": [
    "\"for-cycle\" - run the cycle N number of times\n",
    "e.g. <b>for i in range(N)</b>\n",
    "\n",
    "\"while-loops\" - keep running the cycle until the condition is satisfied\n",
    "e.g. <b> while a < 10</b> ; <b>while a not in b </b>"
   ]
  },
  {
   "cell_type": "code",
   "execution_count": null,
   "metadata": {},
   "outputs": [],
   "source": [
    "#print integers in the range from 0 to 4\n",
    "#range (start, stop, step)\n",
    "for i in range(5):\n",
    "    print(i)\n"
   ]
  },
  {
   "cell_type": "markdown",
   "metadata": {},
   "source": [
    "Note that it starts at 0 (by default), and ends at n-1 for `range(n)`."
   ]
  },
  {
   "cell_type": "markdown",
   "metadata": {},
   "source": [
    "You can also loop over any 'iterable' object, such as lists"
   ]
  },
  {
   "cell_type": "code",
   "execution_count": null,
   "metadata": {},
   "outputs": [],
   "source": [
    "#sequentially print values from the 'parameters' list\n",
    "parameters = [0, 1, 2, 10, 3.14]\n",
    "for i in parameters:\n",
    "    print(i)"
   ]
  },
  {
   "cell_type": "code",
   "execution_count": null,
   "metadata": {},
   "outputs": [],
   "source": [
    "#scan the list, take each element, square it and add it to the new list 'squares'\n",
    "squares = []\n",
    "for a in parameters:\n",
    "    squares.append(a**2)"
   ]
  },
  {
   "cell_type": "code",
   "execution_count": null,
   "metadata": {},
   "outputs": [],
   "source": [
    "#list comprehensions (run twice faster than traditional for loops)\n",
    "squares = [a**2 for a in parameters]\n",
    "squares"
   ]
  },
  {
   "cell_type": "code",
   "execution_count": null,
   "metadata": {},
   "outputs": [],
   "source": [
    "#what is the sum of all numbers from 1 to 100?\n",
    "sum = 0\n",
    "for i in range (1,101):\n",
    "    sum +=i\n",
    "print(sum)"
   ]
  },
  {
   "cell_type": "code",
   "execution_count": null,
   "metadata": {},
   "outputs": [],
   "source": [
    "#for loops for strings\n",
    "#change all of the letters to capitals\n",
    "word = ''\n",
    "for letter in 'python':\n",
    "    letter = letter.upper()\n",
    "print"
   ]
  },
  {
   "cell_type": "code",
   "execution_count": 2,
   "metadata": {
    "scrolled": true
   },
   "outputs": [
    {
     "name": "stdout",
     "output_type": "stream",
     "text": [
      "8\n",
      "21.43588810000001\n"
     ]
    }
   ],
   "source": [
    "#problem: each year you can increase your capital by 10% in how many years you will double it\n",
    "x0 = 10\n",
    "growth = 1.1\n",
    "x = 10\n",
    "i = 0\n",
    "while x <= x0*2:\n",
    "    x = x*growth\n",
    "    i += 1\n",
    "\n",
    "print(i)\n",
    "print(x)"
   ]
  },
  {
   "cell_type": "markdown",
   "metadata": {},
   "source": [
    "### 2. Functions - abstractions and decompositions\n",
    "defining a function\n",
    "\n",
    "def 'name'('input_parameters'):<br>\n",
    "    'body'<br>\n",
    "    return 'output'<br>"
   ]
  },
  {
   "cell_type": "code",
   "execution_count": null,
   "metadata": {},
   "outputs": [],
   "source": [
    "#define a function which performs summation of two inputs 'a' and 'b'\n",
    "def sum(a,b):\n",
    "    y = a+b\n",
    "    return y"
   ]
  },
  {
   "cell_type": "code",
   "execution_count": null,
   "metadata": {},
   "outputs": [],
   "source": [
    "sum(3,5)"
   ]
  },
  {
   "cell_type": "code",
   "execution_count": null,
   "metadata": {},
   "outputs": [],
   "source": [
    "from mys_functions import*\n",
    "evenOrOdd(10)\n",
    "summary(1.0,14.2)"
   ]
  },
  {
   "cell_type": "code",
   "execution_count": null,
   "metadata": {},
   "outputs": [],
   "source": [
    "#define the function: 'even or odd'\n",
    "def evenOrOdd (number):\n",
    "    remainder = number%2\n",
    "    if remainder == 0:\n",
    "        return 'even'\n",
    "    else:\n",
    "        return 'odd'"
   ]
  },
  {
   "cell_type": "code",
   "execution_count": null,
   "metadata": {},
   "outputs": [],
   "source": [
    "evenOrOdd(12)"
   ]
  },
  {
   "cell_type": "code",
   "execution_count": null,
   "metadata": {},
   "outputs": [],
   "source": [
    "#numerical functions in numpy and math libraries\n",
    "import numpy as np\n",
    "x = np.pi/2\n",
    "np.sin(np.pi/2)"
   ]
  },
  {
   "cell_type": "code",
   "execution_count": null,
   "metadata": {},
   "outputs": [],
   "source": [
    "def sumEven(a,b,c):\n",
    "    if evenOrOdd(a) == 'even' and evenOrOdd(b) == 'even':\n",
    "        y = summary(a,b)\n",
    "    elif evenOrOdd(b) == 'even' and evenOrOdd(c) == 'even':\n",
    "        y = summary(b,c)\n",
    "    elif evenOrOdd(a) == 'even' and evenOrOdd(c) == 'even':\n",
    "        y = summary(c,a)\n",
    "    else:\n",
    "        y = 'no even numbers'\n",
    "    return y"
   ]
  },
  {
   "cell_type": "code",
   "execution_count": null,
   "metadata": {},
   "outputs": [],
   "source": [
    "print(sumEven(2,3,12))"
   ]
  },
  {
   "cell_type": "code",
   "execution_count": null,
   "metadata": {},
   "outputs": [],
   "source": [
    "#function is an object, complex object\n",
    "#make function of a function\n",
    "from mys_functions import*\n",
    "print(sumEven(2,3,7))"
   ]
  },
  {
   "cell_type": "code",
   "execution_count": 1,
   "metadata": {},
   "outputs": [],
   "source": [
    "#global and local variables (e.g. global x)\n",
    "#define a function for a circle area\n",
    "def circ_area(r):\n",
    "    global pi \n",
    "    pi = 3.14159\n",
    "    area = pi*r**2\n",
    "    return area\n"
   ]
  },
  {
   "cell_type": "code",
   "execution_count": 2,
   "metadata": {},
   "outputs": [
    {
     "data": {
      "text/plain": [
       "78.53975"
      ]
     },
     "execution_count": 2,
     "metadata": {},
     "output_type": "execute_result"
    }
   ],
   "source": [
    "circ_area(5)"
   ]
  },
  {
   "cell_type": "code",
   "execution_count": 3,
   "metadata": {},
   "outputs": [
    {
     "data": {
      "text/plain": [
       "3.14159"
      ]
     },
     "execution_count": 3,
     "metadata": {},
     "output_type": "execute_result"
    }
   ],
   "source": [
    "pi"
   ]
  },
  {
   "cell_type": "markdown",
   "metadata": {},
   "source": [
    "### 3. Plots"
   ]
  },
  {
   "cell_type": "code",
   "execution_count": null,
   "metadata": {},
   "outputs": [],
   "source": [
    "#example of 1D plot\n",
    "import numpy as np\n",
    "import matplotlib.pylab as plt\n",
    "import matplotlib.pyplot\n",
    "\n",
    "x = np.linspace(-10,10,100)\n",
    "y = np.sin(x)\n",
    "\n",
    "#plotting the phase dependence\n",
    "plt.plot(x, y)\n",
    "plt.xlabel('x')\n",
    "plt.ylabel('y')\n",
    "fig = matplotlib.pyplot.gcf()\n",
    "fig.set_size_inches(20, 4)"
   ]
  },
  {
   "cell_type": "markdown",
   "metadata": {},
   "source": [
    "### 4. Creative zone (Homework 2)"
   ]
  },
  {
   "cell_type": "code",
   "execution_count": null,
   "metadata": {},
   "outputs": [],
   "source": [
    "#write your own program using the knowledge from the lecture"
   ]
  },
  {
   "cell_type": "code",
   "execution_count": null,
   "metadata": {},
   "outputs": [],
   "source": []
  }
 ],
 "metadata": {
  "kernelspec": {
   "display_name": "Python 3 (ipykernel)",
   "language": "python",
   "name": "python3"
  },
  "language_info": {
   "codemirror_mode": {
    "name": "ipython",
    "version": 3
   },
   "file_extension": ".py",
   "mimetype": "text/x-python",
   "name": "python",
   "nbconvert_exporter": "python",
   "pygments_lexer": "ipython3",
   "version": "3.9.7"
  }
 },
 "nbformat": 4,
 "nbformat_minor": 2
}
